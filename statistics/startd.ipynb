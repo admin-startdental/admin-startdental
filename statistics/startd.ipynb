{
  "nbformat": 4,
  "nbformat_minor": 0,
  "metadata": {
    "colab": {
      "provenance": [],
      "mount_file_id": "https://github.com/admin-startdental/admin-startdental/blob/main/statistics/startd.ipynb",
      "authorship_tag": "ABX9TyMgUhq0+8L7I7EkDEp86n4V",
      "include_colab_link": true
    },
    "kernelspec": {
      "name": "python3",
      "display_name": "Python 3"
    },
    "language_info": {
      "name": "python"
    }
  },
  "cells": [
    {
      "cell_type": "markdown",
      "metadata": {
        "id": "view-in-github",
        "colab_type": "text"
      },
      "source": [
        "<a href=\"https://colab.research.google.com/github/admin-startdental/admin-startdental/blob/main/statistics/startd.ipynb\" target=\"_parent\"><img src=\"https://colab.research.google.com/assets/colab-badge.svg\" alt=\"Open In Colab\"/></a>"
      ]
    },
    {
      "cell_type": "markdown",
      "source": [
        "# StArtDental - Statistics\n",
        "\n",
        "\n",
        "\n"
      ],
      "metadata": {
        "id": "oZ5KRUFN6P2-"
      }
    },
    {
      "cell_type": "markdown",
      "source": [
        "[Get Started: 3 Ways to Load CSV files into Colab](https://towardsdatascience.com/3-ways-to-load-csv-files-into-colab-7c14fcbdcb92)\n",
        "\n",
        "[How to Deal With Files in Google Colab: Everything You Need to Know](https://neptune.ai/blog/google-colab-dealing-with-files)\n",
        "\n",
        "[How do I select a subset of a DataFrame](https://pandas.pydata.org/docs/getting_started/intro_tutorials/03_subset_data.html#how-do-i-select-a-subset-of-a-dataframe)\n",
        "\n",
        "[How to combine data from multiple tables](https://pandas.pydata.org/docs/dev/getting_started/intro_tutorials/08_combine_dataframes.html)\n",
        "\n",
        "[How to handle time series data with ease](https://pandas.pydata.org/docs/dev/getting_started/intro_tutorials/09_timeseries.html)"
      ],
      "metadata": {
        "id": "6XvCXtmh6UiB"
      }
    },
    {
      "cell_type": "markdown",
      "source": [],
      "metadata": {
        "id": "79rMM9EYQdRr"
      }
    },
    {
      "cell_type": "code",
      "execution_count": 62,
      "metadata": {
        "colab": {
          "base_uri": "https://localhost:8080/"
        },
        "id": "ituZByqw5hdg",
        "outputId": "e1d67203-54a0-416f-bae8-4bedb5c29b50"
      },
      "outputs": [
        {
          "output_type": "stream",
          "name": "stdout",
          "text": [
            "\n",
            "\n",
            "\n",
            "\n",
            "\n",
            "\n",
            "\n",
            "\n",
            "\n",
            "\n",
            "\n",
            "\n",
            "\n",
            "\n",
            "\n",
            "\n"
          ]
        }
      ],
      "source": [
        "from pickle import TRUE\n",
        "# !ls drive/Othercomputers/My-Laptop/OneDrive\\ -\\ St.ArtDental/Statistics\n",
        "# !pwd drive/Othercomputers/My-Laptop/OneDrive\\ -\\ St.ArtDental/Statistics\n",
        "\n",
        "import pandas as pd\n",
        "import statsmodels.api as sm\n",
        "# from matplotlib import pyplot\n",
        "import matplotlib.pyplot as plt\n",
        "import os\n",
        "\n",
        "\n",
        "# Importing the data\n",
        "\n",
        "# Loop Through Folder\n",
        "# data = []\n",
        "# for filename in os.listdir(\"/content/drive/Othercomputers/My-Laptop/OneDrive - St.ArtDental/Statistics\"):\n",
        "#   print(filename)\n",
        "    # if filename.endswith(\"jpg\"):\n",
        "    #     # Your code comes here such as\n",
        "    #     print(filename)\n",
        "    #     data.append(filename)\n",
        "\n",
        "# Production\n",
        "production23Dic = {}\n",
        "production23DicFilter = [\"tran_date\",\"services_fee\"]\n",
        "\n",
        "dfProductionMay23 = pd.read_csv('/content/drive/Othercomputers/My-Laptop/OneDrive - St.ArtDental/Statistics/production total 05-23.CSV')\n",
        "# dfProductionMay23.info(verbose=True)\n",
        "production23Dic[\"dfProductionMay23\"] = dfProductionMay23[production23DicFilter]\n",
        "\n",
        "dfProductionJun23 = pd.read_csv('/content/drive/Othercomputers/My-Laptop/OneDrive - St.ArtDental/Statistics/production total 06-23.CSV')\n",
        "# dfProductionJun23.info(verbose=True)\n",
        "production23Dic[\"dfProductionJun23\"] = dfProductionJun23[production23DicFilter]\n",
        "\n",
        "dfProductionJul23 = pd.read_csv('/content/drive/Othercomputers/My-Laptop/OneDrive - St.ArtDental/Statistics/production total 07-23.CSV')\n",
        "# dfProductionJul23.info(verbose=True)\n",
        "production23Dic[\"dfProductionJul23\"] = dfProductionJul23[production23DicFilter]\n",
        "\n",
        "dfProductionAug23 = pd.read_csv('/content/drive/Othercomputers/My-Laptop/OneDrive - St.ArtDental/Statistics/production total 08-23.CSV')\n",
        "# dfProductionAug23.info(verbose=True)\n",
        "production23Dic[\"dfProductionAug23\"] = dfProductionAug23[production23DicFilter]\n",
        "\n",
        "for i in production23Dic:\n",
        "  production23Dic[i].to_string()\n",
        "  # print(i,'\\n', production23Dic[i])\n",
        "  print('\\n')\n",
        "  # print(i,'\\n', production23Dic[i].plot(figsize=(10, 5)))\n",
        "\n",
        "\n",
        "\n",
        "# Collection\n",
        "collection23Dic = {}\n",
        "# collection23DicFilter = [\"date_entered\",\"amount\",\"fee\",\"services_fee\"]\n",
        "collection23DicFilter = [\"date_entered\",\"fee\"]\n",
        "\n",
        "dfCollectionMay23 = pd.read_csv('/content/drive/Othercomputers/My-Laptop/OneDrive - St.ArtDental/Statistics/collection 05-23.CSV')\n",
        "# dfCollectionMay23.info(verbose=True)\n",
        "collection23Dic[\"dfCollectionMay23GroupedByDate\"] = dfCollectionMay23[collection23DicFilter].groupby(by=\"date_entered\", dropna=False).sum()\n",
        "\n",
        "dfCollectionJun23 = pd.read_csv('/content/drive/Othercomputers/My-Laptop/OneDrive - St.ArtDental/Statistics/collection 06-23.CSV')\n",
        "# dfCollectionJun23.info(verbose=True)\n",
        "collection23Dic[\"dfCollectionJun23GroupedByDate\"] = dfCollectionJun23[collection23DicFilter].groupby(by=\"date_entered\", dropna=False).sum()\n",
        "\n",
        "dfCollectionJul23 = pd.read_csv('/content/drive/Othercomputers/My-Laptop/OneDrive - St.ArtDental/Statistics/collection 07-23.CSV')\n",
        "# dfCollectionJul23.info(verbose=True)\n",
        "collection23Dic[\"dfCollectionJul23GroupedByDate\"] = dfCollectionJul23[collection23DicFilter].groupby(by=\"date_entered\", dropna=False).sum()\n",
        "\n",
        "dfCollectionAug23 = pd.read_csv('/content/drive/Othercomputers/My-Laptop/OneDrive - St.ArtDental/Statistics/collection 08-23.CSV')\n",
        "# dfCollectionAug23.info(verbose=True)\n",
        "collection23Dic[\"dfCollectionAug23GroupedByDate\"] = dfCollectionAug23[collection23DicFilter].groupby(by=\"date_entered\", dropna=False).sum()\n",
        "\n",
        "\n",
        "for i in collection23Dic:\n",
        "  # collection23Dic[i].to_string()\n",
        "  # print(i,'\\n', collection23Dic[i])\n",
        "  print('\\n')\n",
        "  # print(i,'\\n', collection23Dic[i].plot(figsize=(10, 5)))\n",
        "\n",
        "\n",
        "\n",
        "\n",
        "\n",
        "# References\n",
        "\n",
        "# https://developers.google.com/edu/python\n",
        "# https://developers.google.com/edu/python/dict-files\n",
        "\n",
        "# https://pandas.pydata.org/docs/reference/api/pandas.DataFrame.info.html\n",
        "# https://pandas.pydata.org/docs/getting_started/intro_tutorials/03_subset_data.html#how-do-i-select-a-subset-of-a-dataframe\n",
        "\n",
        "\n",
        "# https://stackoverflow.com/questions/48376580/how-to-read-data-in-google-colab-from-my-google-drive\n",
        "# https://stackoverflow.com/questions/51857468/google-colab-how-to-loop-through-images-in-a-folder\n",
        "\n",
        "# https://neptune.ai/blog/google-colab-dealing-with-files\n",
        "\n",
        "# https://www.geeksforgeeks.org/python-for-kids/\n",
        "\n",
        "# https://pandas.pydata.org/docs/user_guide/style.html\n",
        "\n",
        "# https://pandas.pydata.org/docs/reference/api/pandas.DataFrame.groupby.html\n",
        "\n",
        "# https://pandas.pydata.org/community/ecosystem.html\n",
        "# https://pandas.pydata.org/docs/user_guide/cookbook.html#cookbook-plotting\n",
        "\n",
        "#####"
      ]
    }
  ]
}