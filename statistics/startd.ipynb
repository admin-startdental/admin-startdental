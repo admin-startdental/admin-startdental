{
  "nbformat": 4,
  "nbformat_minor": 0,
  "metadata": {
    "colab": {
      "provenance": [],
      "mount_file_id": "1N455PhgbMQBaIyUQEgRz5BX2F0pTRIiG",
      "authorship_tag": "ABX9TyNxWIHGbBnJXIxPA8Qu8J5y",
      "include_colab_link": true
    },
    "kernelspec": {
      "name": "python3",
      "display_name": "Python 3"
    },
    "language_info": {
      "name": "python"
    }
  },
  "cells": [
    {
      "cell_type": "markdown",
      "metadata": {
        "id": "view-in-github",
        "colab_type": "text"
      },
      "source": [
        "<a href=\"https://colab.research.google.com/github/admin-startdental/admin-startdental/blob/main/statistics/startd.ipynb\" target=\"_parent\"><img src=\"https://colab.research.google.com/assets/colab-badge.svg\" alt=\"Open In Colab\"/></a>"
      ]
    },
    {
      "cell_type": "markdown",
      "source": [
        "[Get Started: 3 Ways to Load CSV files into Colab](https://towardsdatascience.com/3-ways-to-load-csv-files-into-colab-7c14fcbdcb92)\n",
        "\n",
        "[How to Deal With Files in Google Colab: Everything You Need to Know](https://neptune.ai/blog/google-colab-dealing-with-files)\n",
        "\n",
        "\n",
        "\n"
      ],
      "metadata": {
        "id": "oZ5KRUFN6P2-"
      }
    },
    {
      "cell_type": "markdown",
      "source": [
        "# New Section"
      ],
      "metadata": {
        "id": "6XvCXtmh6UiB"
      }
    },
    {
      "cell_type": "code",
      "execution_count": 8,
      "metadata": {
        "colab": {
          "base_uri": "https://localhost:8080/"
        },
        "id": "ituZByqw5hdg",
        "outputId": "d755828f-b104-4d1a-d132-0c6f461a35f7"
      },
      "outputs": [
        {
          "output_type": "stream",
          "name": "stdout",
          "text": [
            "'collection 05-23.CSV'\t 'prod 07-23.CSV'\n",
            "'collection 06-23.CSV'\t 'prod 08-23.CSV'\n",
            "'collection 07-23.CSV'\t 'production total 05-08-23.CSV.gsheet'\n",
            "'collection 08-23.CSV'\t 'production total 05-08-23.CSV.xlsx'\n",
            "'collection 08-23.TXT'\t 'production total 05-23.CSV'\n",
            "'proc by fee 05-23.CSV'  'production total 06-23.CSV'\n",
            "'proc by fee 05-23.TXT'  'production total 06-23.CSV.gsheet'\n",
            "'proc by fee 06-23.CSV'  'production total 07-23.CSV'\n",
            "'proc by fee 07-23.CSV'  'production total 07-23.CSV.gsheet'\n",
            "'proc by fee 08-23.CSV'  'production total 08-23.CSV'\n",
            "'prod 05-23.CSV'\t 'production total 08-23.CSV.gsheet'\n",
            "'prod 06-23.CSV'\n"
          ]
        }
      ],
      "source": [
        "!ls drive/Othercomputers/My-Laptop/OneDrive\\ -\\ St.ArtDental/Statistics\n"
      ]
    }
  ]
}