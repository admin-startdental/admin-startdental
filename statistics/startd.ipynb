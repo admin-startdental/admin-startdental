{
  "nbformat": 4,
  "nbformat_minor": 0,
  "metadata": {
    "colab": {
      "provenance": [],
      "mount_file_id": "1N455PhgbMQBaIyUQEgRz5BX2F0pTRIiG",
      "authorship_tag": "ABX9TyN4CwIdvDDT0NNrZdccE7x7",
      "include_colab_link": true
    },
    "kernelspec": {
      "name": "python3",
      "display_name": "Python 3"
    },
    "language_info": {
      "name": "python"
    }
  },
  "cells": [
    {
      "cell_type": "markdown",
      "metadata": {
        "id": "view-in-github",
        "colab_type": "text"
      },
      "source": [
        "<a href=\"https://colab.research.google.com/github/admin-startdental/admin-startdental/blob/main/statistics/startd.ipynb\" target=\"_parent\"><img src=\"https://colab.research.google.com/assets/colab-badge.svg\" alt=\"Open In Colab\"/></a>"
      ]
    },
    {
      "cell_type": "markdown",
      "source": [
        "# StArtDental - Statistics\n",
        "\n",
        "\n",
        "\n"
      ],
      "metadata": {
        "id": "oZ5KRUFN6P2-"
      }
    },
    {
      "cell_type": "markdown",
      "source": [
        "[Get Started: 3 Ways to Load CSV files into Colab](https://towardsdatascience.com/3-ways-to-load-csv-files-into-colab-7c14fcbdcb92)\n",
        "\n",
        "[How to Deal With Files in Google Colab: Everything You Need to Know](https://neptune.ai/blog/google-colab-dealing-with-files)"
      ],
      "metadata": {
        "id": "6XvCXtmh6UiB"
      }
    },
    {
      "cell_type": "code",
      "execution_count": 13,
      "metadata": {
        "colab": {
          "base_uri": "https://localhost:8080/"
        },
        "id": "ituZByqw5hdg",
        "outputId": "537f66e4-9238-4ce9-830d-1f0b8703a5b5"
      },
      "outputs": [
        {
          "output_type": "stream",
          "name": "stdout",
          "text": [
            "     patient_id  tran_num user_id type  tran_date  resp_party_id  amount  \\\n",
            "0          3486     50697      IP    S   6/5/2023           3486       0   \n",
            "1          3537     50698      IP    S   6/5/2023           3537    1350   \n",
            "2          3477     50703      IP    S   6/6/2023           3477     210   \n",
            "3          3477     50823      IP    S   6/6/2023           3477     180   \n",
            "4          3520     50716     101    S   6/7/2023           3520    1750   \n",
            "..          ...       ...     ...  ...        ...            ...     ...   \n",
            "191        3602     50945     102    S  6/30/2023           3602    1750   \n",
            "192        3602     50946     102    S  6/30/2023           3602    1750   \n",
            "193        3602     50947     102    S  6/30/2023           3602    1750   \n",
            "194        3602     50948     102    S  6/30/2023           3602    1750   \n",
            "195        3574     50943     103    S  6/30/2023           3574       0   \n",
            "\n",
            "     amount.1 impacts service_code  ...  est_primary est_secondary  \\\n",
            "0           0       P          WAX  ...          0.0             0   \n",
            "1        1350       P        D5226  ...        675.0             0   \n",
            "2         210       P        D2392  ...          0.0             0   \n",
            "3         180       P        D2392  ...          0.0             0   \n",
            "4        1750       P        D6010  ...        875.0             0   \n",
            "..        ...     ...          ...  ...          ...           ...   \n",
            "191      1750       P        D6010  ...          0.0             0   \n",
            "192      1750       P        D6010  ...          0.0             0   \n",
            "193      1750       P        D6010  ...          0.0             0   \n",
            "194      1750       P        D6010  ...          0.0             0   \n",
            "195         0       P        DELBL  ...          0.0             0   \n",
            "\n",
            "    compute_0027    home_phone  status services_fee description.2  practice  \\\n",
            "0            NaN  7.733160e+09       A          0.0           NaN         1   \n",
            "1            NaN  8.126970e+09       A       1350.0           NaN         1   \n",
            "2            NaN           NaN       D        210.0           NaN         1   \n",
            "3            NaN           NaN       A        210.0           NaN         1   \n",
            "4            NaN  9.415450e+09       A       1750.0           NaN         1   \n",
            "..           ...           ...     ...          ...           ...       ...   \n",
            "191          NaN  3.054172e+09       A       1750.0           NaN         1   \n",
            "192          NaN  3.054172e+09       A       1750.0           NaN         1   \n",
            "193          NaN  3.054172e+09       A       1750.0           NaN         1   \n",
            "194          NaN  3.054172e+09       A       1750.0           NaN         1   \n",
            "195          NaN  9.414056e+09       A          0.0           NaN         1   \n",
            "\n",
            "     country_code  detail_id  \n",
            "0               1     102841  \n",
            "1               1     102842  \n",
            "2               1     102847  \n",
            "3               1     103006  \n",
            "4               1     102860  \n",
            "..            ...        ...  \n",
            "191             1     103287  \n",
            "192             1     103288  \n",
            "193             1     103289  \n",
            "194             1     103290  \n",
            "195             1     103285  \n",
            "\n",
            "[196 rows x 34 columns]\n"
          ]
        }
      ],
      "source": [
        "# !ls drive/Othercomputers/My-Laptop/OneDrive\\ -\\ St.ArtDental/Statistics\n",
        "# !pwd drive/Othercomputers/My-Laptop/OneDrive\\ -\\ St.ArtDental/Statistics\n",
        "\n",
        "import pandas as pd\n",
        "\n",
        "df = pd.read_csv('/content/drive/Othercomputers/My-Laptop/OneDrive - St.ArtDental/Statistics/production total 06-23.CSV')\n",
        "\n",
        "print(df)"
      ]
    }
  ]
}