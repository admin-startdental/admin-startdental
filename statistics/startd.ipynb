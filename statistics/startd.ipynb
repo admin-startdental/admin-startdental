{
  "nbformat": 4,
  "nbformat_minor": 0,
  "metadata": {
    "colab": {
      "provenance": [],
      "mount_file_id": "1N455PhgbMQBaIyUQEgRz5BX2F0pTRIiG",
      "authorship_tag": "ABX9TyPtiMvMxR5Vw6GmgAz2q1wh",
      "include_colab_link": true
    },
    "kernelspec": {
      "name": "python3",
      "display_name": "Python 3"
    },
    "language_info": {
      "name": "python"
    }
  },
  "cells": [
    {
      "cell_type": "markdown",
      "metadata": {
        "id": "view-in-github",
        "colab_type": "text"
      },
      "source": [
        "<a href=\"https://colab.research.google.com/github/admin-startdental/admin-startdental/blob/main/statistics/startd.ipynb\" target=\"_parent\"><img src=\"https://colab.research.google.com/assets/colab-badge.svg\" alt=\"Open In Colab\"/></a>"
      ]
    },
    {
      "cell_type": "markdown",
      "source": [
        "# StArtDental - Statistics\n",
        "\n",
        "\n",
        "\n"
      ],
      "metadata": {
        "id": "oZ5KRUFN6P2-"
      }
    },
    {
      "cell_type": "markdown",
      "source": [
        "[Get Started: 3 Ways to Load CSV files into Colab](https://towardsdatascience.com/3-ways-to-load-csv-files-into-colab-7c14fcbdcb92)\n",
        "\n",
        "[How to Deal With Files in Google Colab: Everything You Need to Know](https://neptune.ai/blog/google-colab-dealing-with-files)\n",
        "\n",
        "[\"How do I select a subset of a DataFrame\"](https://pandas.pydata.org/docs/getting_started/intro_tutorials/03_subset_data.html#how-do-i-select-a-subset-of-a-dataframe)"
      ],
      "metadata": {
        "id": "6XvCXtmh6UiB"
      }
    },
    {
      "cell_type": "code",
      "execution_count": 9,
      "metadata": {
        "colab": {
          "base_uri": "https://localhost:8080/"
        },
        "id": "ituZByqw5hdg",
        "outputId": "bb071ced-c37f-43e8-ad1c-f3d9b9d2e389"
      },
      "outputs": [
        {
          "output_type": "stream",
          "name": "stdout",
          "text": [
            "<class 'pandas.core.frame.DataFrame'>\n",
            "Index: 16 entries, 6/12/2023 to 6/9/2023\n",
            "Data columns (total 1 columns):\n",
            " #   Column        Non-Null Count  Dtype  \n",
            "---  ------        --------------  -----  \n",
            " 0   services_fee  16 non-null     float64\n",
            "dtypes: float64(1)\n",
            "memory usage: 256.0+ bytes\n",
            "           services_fee\n",
            "tran_date              \n",
            "6/12/2023        1515.0\n",
            "6/14/2023         290.0\n",
            "6/16/2023        1000.0\n",
            "6/19/2023        5740.0\n",
            "6/2/2023         1680.0\n",
            "6/20/2023           0.0\n",
            "6/21/2023         875.0\n",
            "6/23/2023        2245.0\n",
            "6/24/2023        2055.0\n",
            "6/26/2023        2024.0\n",
            "6/28/2023        6640.0\n",
            "6/30/2023        8750.0\n",
            "6/5/2023         3465.0\n",
            "6/6/2023          420.0\n",
            "6/7/2023         3865.0\n",
            "6/9/2023         7805.0\n"
          ]
        }
      ],
      "source": [
        "# !ls drive/Othercomputers/My-Laptop/OneDrive\\ -\\ St.ArtDental/Statistics\n",
        "# !pwd drive/Othercomputers/My-Laptop/OneDrive\\ -\\ St.ArtDental/Statistics\n",
        "\n",
        "import pandas as pd\n",
        "\n",
        "# Import the data\n",
        "df = pd.read_csv('/content/drive/Othercomputers/My-Laptop/OneDrive - St.ArtDental/Statistics/production total 06-23.CSV')\n",
        "# print(df)\n",
        "\n",
        "# https://pandas.pydata.org/docs/reference/api/pandas.DataFrame.info.html\n",
        "# df.info(verbose=True)\n",
        "\n",
        "# https://pandas.pydata.org/docs/getting_started/intro_tutorials/03_subset_data.html#how-do-i-select-a-subset-of-a-dataframe\n",
        "serviceFeePerMonth = df[[\"tran_date\",\"services_fee\"]]\n",
        "# print(serviceFeePerMonth)\n",
        "\n",
        "# https://pandas.pydata.org/docs/reference/api/pandas.DataFrame.groupby.html\n",
        "groupedByDay = serviceFeePerMonth.groupby(by=\"tran_date\", dropna=False).sum()\n",
        "groupedByDay.info(verbose=True)\n",
        "print(groupedByDay)\n",
        "\n"
      ]
    }
  ]
}